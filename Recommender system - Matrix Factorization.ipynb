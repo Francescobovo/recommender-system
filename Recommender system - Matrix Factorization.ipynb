{
 "cells": [
  {
   "cell_type": "code",
   "execution_count": 1,
   "metadata": {},
   "outputs": [],
   "source": [
    "\"\"\"\n",
    "\n",
    "\n",
    "This script demonstrates how implement the \"global average rating\" recommender\n",
    "and validate its accuracy with help of 5-fold cross-validation.\n",
    "\n",
    "\"\"\"\n",
    "import warnings\n",
    "import os\n",
    "import math\n",
    "from sklearn.linear_model import LinearRegression\n",
    "import numpy as np\n",
    "import numpy_indexed as npi\n",
    "from scipy  import sparse\n",
    "from scipy.sparse import lil_matrix\n",
    "import pickle\n",
    "import pandas as pd\n",
    "from tqdm import tqdm_notebook as tqdm"
   ]
  },
  {
   "cell_type": "code",
   "execution_count": 2,
   "metadata": {},
   "outputs": [],
   "source": [
    "#load data\n",
    "ratings=[]\n",
    "f = open(\"ratings.dat\", 'r')\n",
    "for line in f:\n",
    "    data = line.split('::')\n",
    "    ratings.append([int(z) for z in data])\n",
    "f.close()\n",
    "ratings = np.array(ratings)\n",
    "\n",
    "#split data into 5 train and test folds\n",
    "nfolds=5\n",
    "np.random.seed(17)\n",
    "\n",
    "seqs=[x%nfolds for x in range(len(ratings))]\n",
    "np.random.shuffle(seqs)"
   ]
  },
  {
   "cell_type": "code",
   "execution_count": 3,
   "metadata": {},
   "outputs": [],
   "source": [
    "#create sparse matrix from given ratings data\n",
    "#Use User and Item-Ids as pointers to the respective row (User-Id) and column (Item-Id) where to store the rating\n",
    "def sparseMatrix(ratings_data):\n",
    "    #Ids are sequence from 1 to ItemId-count, e.g. 3706\n",
    "    #Determine largest Id as dimensions for sparse 2d matrix\n",
    "    sparseM = lil_matrix((np.max(ratings_data[:,1]),np.max(ratings_data[:,0])))\n",
    "    #Store rating in Id-index for User and Item, since Id starts with 1, subtract 1 to use 0th row\n",
    "    for i in range((ratings_data.shape[0])):\n",
    "        try:\n",
    "            sparseM[ratings_data[i, 1]-1, ratings_data[i, 0]-1] = ratings_data[i, 2]\n",
    "        except:\n",
    "            print(\"except\",i, sparseM.shape, ratings_data[i, 1]-1, ratings_data[i, 0-1])\n",
    "    return sparseM\n"
   ]
  },
  {
   "cell_type": "code",
   "execution_count": 4,
   "metadata": {},
   "outputs": [],
   "source": [
    "def MF(ratings_data, num_factor, learning, regularization, num_iter):\n",
    "    #get dimensions of User and Item Matrix\n",
    "    num_users = np.max(ratings_data[:,0])\n",
    "    num_item = np.max(ratings_data[:,1])\n",
    "    # Create sparse Matrix from ratings to be used as lookup for error calculation\n",
    "    RatingsMatrix = sparseMatrix(ratings_data)\n",
    "\n",
    "    # Initialize user and item matrices with random values\n",
    "    UserMatrix = np.array(np.random.normal(scale=1/num_factor,\n",
    "                            size = (num_users, num_factor)), dtype=np.float64)\n",
    "    ItemMatrix = np.array(np.random.normal(scale=1/num_factor,\n",
    "                            size = (num_factor, num_item)), dtype=np.float64)\n",
    "    # Repeat for given number of iterations, here = 75\n",
    "    for p in range(num_iter):\n",
    "        # go along the ratings data and take ItemId and UserId for each rating-entry\n",
    "        for j,i in ratings_data[:,(0,1)]:\n",
    "            # calculate prediction from existing data\n",
    "            pred = np.float64(np.dot(UserMatrix[j-1,:],ItemMatrix[:,i-1] ))\n",
    "            rate = RatingsMatrix[i-1,j-1]\n",
    "            # calculate difference between prediction and true rating\n",
    "            err = rate - pred\n",
    "            # Update weigths of matrices\n",
    "            UserMatrix2 = UserMatrix[j-1,:] + np.float64(learning) * np.float64((np.float64(2.0)\n",
    "                            * np.float64(err) * ItemMatrix[:, i-1]) - np.float64(regularization) * UserMatrix[j-1,:])\n",
    "            ItemMatrix2 = ItemMatrix[:,i-1] + np.float64(learning) * np.float64((np.float64(2.0)\n",
    "                            * np.float64(err)) * UserMatrix[j-1,:] - np.float64(regularization) * ItemMatrix[:, i-1])\n",
    "            UserMatrix[j - 1, :] = UserMatrix2\n",
    "            ItemMatrix[:, i - 1] = ItemMatrix2\n",
    "        #Calculate RMSE and MAE - block\n",
    "        #initialize error and counter variables\n",
    "        errsum = 0.0\n",
    "        counter = 0\n",
    "        maesum = 0.0\n",
    "        for j, i in ratings_data[:, (0, 1)]:\n",
    "            # calculate difference between true rating and dot product\n",
    "            rate = RatingsMatrix[i - 1, j - 1]\n",
    "            predict = np.dot(UserMatrix[j-1,:],ItemMatrix[:,i-1] )\n",
    "            # round predicted rating if out of bounds\n",
    "            if(predict > 5):\n",
    "                predict = 5\n",
    "            if (predict < 1):\n",
    "                predict = 1\n",
    "            # add to cumulative rmse and mae sum\n",
    "            errsum += math.pow(rate - predict, 2)\n",
    "            maesum += math.fabs(rate - predict)\n",
    "            counter += 1\n",
    "        rmse = math.sqrt(errsum/counter)\n",
    "        mae = maesum/counter\n",
    "    # Calculate Prediction Matrix to be returned\n",
    "    #Moved outside of iteration loop for performace reasons\n",
    "    Prediction = np.transpose(np.dot(UserMatrix, ItemMatrix))\n",
    "    return(rmse, mae, Prediction)"
   ]
  },
  {
   "cell_type": "code",
   "execution_count": 5,
   "metadata": {},
   "outputs": [],
   "source": [
    "#Perform 5 fold Cross-Validation\n",
    "#Initialize variables/result store arrays\n",
    "maeTrain = np.zeros(nfolds)\n",
    "maeTest = np.zeros(nfolds)\n",
    "rmseTrain=np.zeros(nfolds)\n",
    "rmseTest=np.zeros(nfolds)\n",
    "rmsetemp = 0\n",
    "maetemp = 0"
   ]
  },
  {
   "cell_type": "code",
   "execution_count": null,
   "metadata": {},
   "outputs": [
    {
     "data": {
      "application/vnd.jupyter.widget-view+json": {
       "model_id": "3cf44e3b1a8f4d4e805f5c83e6dab8d6",
       "version_major": 2,
       "version_minor": 0
      },
      "text/plain": [
       "HBox(children=(IntProgress(value=0, max=5), HTML(value='')))"
      ]
     },
     "metadata": {},
     "output_type": "display_data"
    }
   ],
   "source": [
    "for fold in tqdm(range(5)):\n",
    "    #Select Training and Test data\n",
    "    train_sel=np.array([x!=fold for x in seqs])\n",
    "    test_sel=np.array([x==fold for x in seqs])\n",
    "    train=ratings[train_sel]\n",
    "    test=ratings[test_sel]\n",
    "    #Perform MF for current train data set\n",
    "    rmseTrain[fold], maeTrain[fold], Prediction = MF(train, 10, 0.005, 0.05, 75)\n",
    "    skip = 0\n",
    "    for i in range(test.shape[0]):\n",
    "        try:\n",
    "            #Get RMSE and MAE for test data\n",
    "            rmsetemp += (test[i,2] - Prediction[test[i,1]-1,test[i,0]-1])**2\n",
    "            maetemp += math.fabs(test[i,2] - Prediction[test[i,1]-1,test[i,0]-1])\n",
    "        except:\n",
    "            #If error occurs, skip current line\n",
    "            skip += 1\n",
    "    #save RMSE and MAE for current fold\n",
    "    rmseTest[fold] = math.sqrt(rmsetemp/(test.shape[0] - skip))\n",
    "    maeTest[fold] =  maetemp/(test.shape[0]-skip)\n",
    "    #Print results\n",
    "    print(\"Set No.\" + str(fold) + \", rmse on train: \" + str(rmseTrain[fold]) + \", rmse on test: \" + str(rmseTest[fold]), \"skipped entries: \"+ str(skip))\n",
    "    print(\"Set No.\" + str(fold) + \", mae on train: \" + str(maeTrain[fold]) + \", mae on test: \" + str(maeTest[fold]), \"skipped entries: \"+ str(skip))"
   ]
  },
  {
   "cell_type": "code",
   "execution_count": null,
   "metadata": {},
   "outputs": [],
   "source": []
  }
 ],
 "metadata": {
  "kernelspec": {
   "display_name": "Python 3",
   "language": "python",
   "name": "python3"
  },
  "language_info": {
   "codemirror_mode": {
    "name": "ipython",
    "version": 3
   },
   "file_extension": ".py",
   "mimetype": "text/x-python",
   "name": "python",
   "nbconvert_exporter": "python",
   "pygments_lexer": "ipython3",
   "version": "3.7.4"
  }
 },
 "nbformat": 4,
 "nbformat_minor": 2
}
